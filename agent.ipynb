{
 "cells": [
  {
   "cell_type": "markdown",
   "metadata": {},
   "source": [
    "### Problem Statement: You have to perform the following operation using LLM with the help of function calling\n",
    "\n",
    "Eg. A+7=H, B+2=D, C-1=B.\n",
    "\n",
    "Using Langraph make an agentic model which will take query from user (i.e. add/subtract 5 steps to G)\n"
   ]
  },
  {
   "cell_type": "code",
   "execution_count": null,
   "metadata": {},
   "outputs": [],
   "source": [
    "# Import the necessary libraries\n",
    "import os\n",
    "from typing import Literal\n",
    "from langchain_core.messages import HumanMessage\n",
    "from langchain_groq import ChatGroq\n",
    "from langchain_core.tools import tool\n",
    "from langgraph.checkpoint.memory import MemorySaver\n",
    "from langgraph.graph import END, StateGraph, MessagesState\n",
    "from langgraph.prebuilt import ToolNode"
   ]
  },
  {
   "cell_type": "code",
   "execution_count": null,
   "metadata": {},
   "outputs": [],
   "source": [
    "# Define the groq cloud api key\n",
    "os.environ[\"GROQ_API_KEY\"] = \"your_groq_cloud_api_key\""
   ]
  },
  {
   "cell_type": "markdown",
   "metadata": {},
   "source": [
    "Defining the perform arithmetic function as a langgraph tool\n"
   ]
  },
  {
   "cell_type": "code",
   "execution_count": 13,
   "metadata": {},
   "outputs": [],
   "source": [
    "# Define a new graph\n",
    "# Define the function as the tool node which will be the entry point to perform arithmetic operations\n",
    "@tool(\"some_function\")\n",
    "def perform_letter_arithmetic(expression: str) -> str:\n",
    "    \"\"\"Perform arithmetic operations on letters\"\"\"\n",
    "    expression = expression.strip().lower()\n",
    "    \n",
    "    if 'add' in expression or 'subtract' in expression:\n",
    "        parts = expression.split(' to ')\n",
    "        if len(parts) == 2:\n",
    "            operation_part, letters_part = parts\n",
    "            operation = 'add' if 'add' in operation_part else 'subtract'\n",
    "            \n",
    "            # Extract the number and letters from the string\n",
    "            operation_part = operation_part.replace('add', '').replace('subtract', '')\n",
    "            steps = list(map(int, operation_part.split(', ')))\n",
    "            letters = letters_part.replace('respectively', '').strip().split(', ')\n",
    "            \n",
    "            if len(steps) != len(letters):\n",
    "                raise ValueError(\"Number of steps and letters not equal in query\")\n",
    "            \n",
    "            results = []\n",
    "            for letter, step in zip(letters, steps):\n",
    "                ascii_value = ord(letter.upper())\n",
    "                if operation == 'add':\n",
    "                    new_ascii_value = ascii_value + step\n",
    "                elif operation == 'subtract':\n",
    "                    new_ascii_value = ascii_value - step\n",
    "                # Wrap around to 'A' if new_ascii_value is less than 'A'\n",
    "                if new_ascii_value < ord('A'):\n",
    "                    new_ascii_value += 26\n",
    "                # Wrap around to 'Z' if new_ascii_value is greater than 'Z'\n",
    "                elif new_ascii_value > ord('Z'):\n",
    "                    new_ascii_value -= 26\n",
    "                results.append(chr(new_ascii_value))\n",
    "            return \", \".join(results)\n",
    "    \n",
    "    else:\n",
    "        operation, letter, steps = None, None, None\n",
    "        expression = expression.strip()\n",
    "        if '+' in expression:\n",
    "            operation = 'add'\n",
    "            letter, steps = expression.split('+')\n",
    "        elif '-' in expression:\n",
    "            operation = 'subtract'\n",
    "            letter, steps = expression.split('-')\n",
    "        else:\n",
    "            raise ValueError(\"Invalid expression. Please use '+' or '-' to separate the character\")\n",
    "        \n",
    "        steps = int(steps)\n",
    "        ascii_value = ord(letter.upper())\n",
    "        if operation.lower() == 'add':\n",
    "            new_ascii_value = ascii_value + steps\n",
    "        elif operation.lower() == 'subtract':\n",
    "            new_ascii_value = ascii_value - steps\n",
    "        else:\n",
    "            raise ValueError(\"Invalid operation. Please use 'add' or 'subtract'.\")\n",
    "        \n",
    "        # Wrap around to 'A' if new_ascii_value is less than 'A'\n",
    "        if new_ascii_value < ord('A'):\n",
    "            new_ascii_value += 26\n",
    "        # Wrap around to 'Z' if new_ascii_value is greater than 'Z'\n",
    "        elif new_ascii_value > ord('Z'):\n",
    "            new_ascii_value -= 26\n",
    "        \n",
    "        return chr(new_ascii_value)"
   ]
  },
  {
   "cell_type": "markdown",
   "metadata": {},
   "source": [
    "Adding the function to the ToolNode Class\n"
   ]
  },
  {
   "cell_type": "code",
   "execution_count": null,
   "metadata": {},
   "outputs": [],
   "source": [
    "tools = [perform_letter_arithmetic]\n",
    "\n",
    "tool_node = ToolNode(tools)\n",
    "\n",
    "# Define the groq model using the ChatGroq class\n",
    "model = ChatGroq(model_name=\"llama3-8b-8192\", temperature=0).bind_tools(tools)"
   ]
  },
  {
   "cell_type": "markdown",
   "metadata": {},
   "source": [
    "Adding the boilerplate to perform the workflow of the graph from agent's entry_mode to other nodes till END\n"
   ]
  },
  {
   "cell_type": "code",
   "execution_count": null,
   "metadata": {},
   "outputs": [],
   "source": [
    "# Define the functions to continue or end and the entry point for call_model, SOURCE: https://langchain-ai.github.io/langgraph/#example\n",
    "def should_continue(state: MessagesState) -> Literal[\"tools\", END]:\n",
    "    \"\"\"\n",
    "    This function is called after each message is processed. It determines whether the conversation should continue or end\n",
    "    using the continuous edges of the langgraph API.\n",
    "    \"\"\"\n",
    "    messages = state['messages']\n",
    "    last_message = messages[-1]\n",
    "    # If the LLM makes a tool call, then we route to the \"tools\" node\n",
    "    if last_message.tool_calls:\n",
    "        return \"tools\"\n",
    "    # Otherwise, we stop (reply to the user)\n",
    "    return END\n",
    "\n",
    "def call_model(state: MessagesState):\n",
    "    \"\"\"Takes the input state as MessagesState and returns the output of the required response using model invoke\"\"\"\n",
    "    messages = state['messages']\n",
    "    response = model.invoke(messages)\n",
    "    # We return a list, because this will get added to the existing list\n",
    "    return {\"messages\": [response]}\n",
    "\n",
    "workflow = StateGraph(MessagesState)\n",
    "\n",
    "# Define the two nodes we will cycle between\n",
    "workflow.add_node(\"agent\", call_model)\n",
    "workflow.add_node(\"tools\", tool_node)\n",
    "\n",
    "# Set the entrypoint as `agent` which is the first point in graph to be called \n",
    "workflow.set_entry_point(\"agent\")\n",
    "\n",
    "# Add a conditional edge which first calls the agent as the start node and next we pass in function to define what node is called next\n",
    "workflow.add_conditional_edges(\n",
    "    \"agent\",\n",
    "    should_continue,\n",
    ")\n",
    "\n",
    "# Add a normal edge from `tools` to `agent`, after tool agent is called\n",
    "workflow.add_edge(\"tools\", 'agent')\n",
    "\n",
    "# Initialize memory to persist state between graph runs\n",
    "checkpointer = MemorySaver()\n",
    "\n",
    "# Compile the graph\n",
    "app = workflow.compile(checkpointer=checkpointer)"
   ]
  },
  {
   "cell_type": "markdown",
   "metadata": {},
   "source": [
    "Performing the query based on different operations\n"
   ]
  },
  {
   "cell_type": "code",
   "execution_count": null,
   "metadata": {},
   "outputs": [],
   "source": [
    "# The query to give to the model\n",
    "queries = ['A+3','B-2','N+1','P+3']\n",
    "\n",
    "for query in queries:\n",
    "# Recieve the output from the model\n",
    "    final_state = app.invoke(\n",
    "                {\"messages\": [HumanMessage(content=query)]},\n",
    "                config={\"configurable\": {\"thread_id\": id(query)}}  # Use a unique thread_id for each query\n",
    "            )\n",
    "\n",
    "    print()\n",
    "    print(query+' = '+final_state[\"messages\"][-1].content)"
   ]
  },
  {
   "cell_type": "code",
   "execution_count": null,
   "metadata": {},
   "outputs": [],
   "source": [
    "# Performing the query without using AI agent\n",
    "queries = ['A+3','B-2','N+1','P+3', 'add 4, 2, 7 to A, B, G respectively']\n",
    "for query in queries:\n",
    "    print()\n",
    "    print(query+' = '+perform_letter_arithmetic(query))"
   ]
  }
 ],
 "metadata": {
  "kernelspec": {
   "display_name": "agent",
   "language": "python",
   "name": "python3"
  },
  "language_info": {
   "codemirror_mode": {
    "name": "ipython",
    "version": 3
   },
   "file_extension": ".py",
   "mimetype": "text/x-python",
   "name": "python",
   "nbconvert_exporter": "python",
   "pygments_lexer": "ipython3",
   "version": "3.12.4"
  }
 },
 "nbformat": 4,
 "nbformat_minor": 2
}
